{
 "cells": [
  {
   "cell_type": "code",
   "execution_count": 2,
   "id": "39bfa35f",
   "metadata": {},
   "outputs": [],
   "source": [
    "import coremltools"
   ]
  },
  {
   "cell_type": "code",
   "execution_count": 5,
   "id": "6c6f1572",
   "metadata": {},
   "outputs": [],
   "source": [
    "mlmodel = coremltools.models.MLModel('motionClassifier.mlmodel')\n",
    "spec = mlmodel.get_spec()\n",
    "\n",
    "# assuming we want to set the 2nd input to optional\n",
    "input3 = spec.description.input[3]\n",
    "input3.type.isOptional = True\n",
    "\n",
    "# save the spec back out\n",
    "mlmodel = coremltools.models.MLModel(spec)\n",
    "mlmodel.save('motionClassifier.mlmodel')"
   ]
  },
  {
   "cell_type": "code",
   "execution_count": null,
   "id": "82496f2f",
   "metadata": {},
   "outputs": [],
   "source": []
  }
 ],
 "metadata": {
  "kernelspec": {
   "display_name": "Python 3 (ipykernel)",
   "language": "python",
   "name": "python3"
  },
  "language_info": {
   "codemirror_mode": {
    "name": "ipython",
    "version": 3
   },
   "file_extension": ".py",
   "mimetype": "text/x-python",
   "name": "python",
   "nbconvert_exporter": "python",
   "pygments_lexer": "ipython3",
   "version": "3.9.17"
  }
 },
 "nbformat": 4,
 "nbformat_minor": 5
}
