{
 "cells": [
  {
   "cell_type": "code",
   "execution_count": 2,
   "id": "1c865cc0",
   "metadata": {},
   "outputs": [
    {
     "name": "stdout",
     "output_type": "stream",
     "text": [
      "水増し処理が完了しました。\n"
     ]
    }
   ],
   "source": [
    "import os\n",
    "import pandas as pd\n",
    "\n",
    "# 元のCSVファイルがあるフォルダとothers_2フォルダのパスを指定します\n",
    "input_folder = '/Users/u9004085802/Desktop/motion_detect_createML-master/data/09111121_switch/train/others'\n",
    "output_folder = '/Users/u9004085802/Desktop/motion_detect_createML-master/data/09111121_switch/train/others_2'\n",
    "\n",
    "# 指定したフォルダ内のCSVファイルを処理します\n",
    "for filename in os.listdir(input_folder):\n",
    "    if filename.endswith('.csv'):\n",
    "        # CSVファイルを読み込みます\n",
    "        input_path = os.path.join(input_folder, filename)\n",
    "        df = pd.read_csv(input_path)\n",
    "\n",
    "        # データを入れ替えます\n",
    "        df['gyro_x'], df['gyro_y'], df['gyro_z'] = df['gyro_z'], df['gyro_x'], df['gyro_y']\n",
    "\n",
    "        # 新しいファイル名を生成します\n",
    "        new_filename = filename.replace('.csv', '_switch_2.csv')\n",
    "        output_path = os.path.join(output_folder, new_filename)\n",
    "\n",
    "        # 新しいCSVファイルを保存します\n",
    "        df.to_csv(output_path, index=False)\n",
    "\n",
    "print(\"水増し処理が完了しました。\")\n"
   ]
  }
 ],
 "metadata": {
  "kernelspec": {
   "display_name": "Python 3 (ipykernel)",
   "language": "python",
   "name": "python3"
  },
  "language_info": {
   "codemirror_mode": {
    "name": "ipython",
    "version": 3
   },
   "file_extension": ".py",
   "mimetype": "text/x-python",
   "name": "python",
   "nbconvert_exporter": "python",
   "pygments_lexer": "ipython3",
   "version": "3.11.4"
  }
 },
 "nbformat": 4,
 "nbformat_minor": 5
}
